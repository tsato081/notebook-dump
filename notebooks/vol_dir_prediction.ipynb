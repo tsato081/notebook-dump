{
 "cells": [
  {
   "cell_type": "markdown",
   "metadata": {},
   "source": [
    "# **Vol prediction + Direction**"
   ]
  },
  {
   "cell_type": "code",
   "execution_count": 1,
   "metadata": {},
   "outputs": [],
   "source": [
    "import pandas as pd \n",
    "import ccxt\n",
    "import numpy as np\n",
    "import matplotlib.pyplot as plt \n",
    "import japanize_matplotlib\n",
    "from sklearn.linear_model import LogisticRegression\n",
    "from sklearn.model_selection import TimeSeriesSplit\n",
    "from sklearn.metrics import roc_auc_score\n",
    "\n"
   ]
  },
  {
   "cell_type": "markdown",
   "metadata": {},
   "source": [
    "### **1. Data Download**"
   ]
  },
  {
   "cell_type": "code",
   "execution_count": null,
   "metadata": {},
   "outputs": [],
   "source": [
    "df = pd.read_csv('data/BTC_USDC_1m_202504.csv')"
   ]
  },
  {
   "cell_type": "markdown",
   "metadata": {},
   "source": [
    "### **2. Features**"
   ]
  },
  {
   "cell_type": "code",
   "execution_count": 3,
   "metadata": {},
   "outputs": [],
   "source": [
    "# 2. True Range の計算\n",
    "df['prev_close'] = df['close'].shift(1)\n",
    "df['prev_close2'] = df['close'].shift(2)\n",
    "df['tr1'] = df['high'] - df['low']\n",
    "df['tr2'] = (df['high'] - df['prev_close']).abs()\n",
    "df['tr3'] = (df['low']  - df['prev_close']).abs()\n",
    "df['tr']  = df[['tr1','tr2','tr3']].max(axis=1)\n",
    "# 50分のATR\n",
    "df['atr50'] = df['tr'].rolling(window=50).mean()\n",
    "df.dropna(inplace=True)\n"
   ]
  },
  {
   "cell_type": "code",
   "execution_count": 4,
   "metadata": {},
   "outputs": [
    {
     "name": "stdout",
     "output_type": "stream",
     "text": [
      "高ボラ→次も高ボラの確率: 48.37%\n"
     ]
    }
   ],
   "source": [
    "# 4. 高ボラ検知フラグ（tr > atr50）\n",
    "df['high_vol'] = (df['tr'] > df['atr50']).astype(int)\n",
    "# 「このバーが高ボラなら、次のバーも高ボラか？」を見る\n",
    "df['high_vol_next'] = df['high_vol'].shift(-1)\n",
    "\n",
    "cluster_rate = df.loc[df['high_vol'] == 1, 'high_vol_next'].mean()\n",
    "print(f\"高ボラ→次も高ボラの確率: {cluster_rate:.2%}\")"
   ]
  },
  {
   "cell_type": "code",
   "execution_count": 5,
   "metadata": {},
   "outputs": [
    {
     "name": "stdout",
     "output_type": "stream",
     "text": [
      "高ボラ直後の平均リターン: 1.7057\n"
     ]
    }
   ],
   "source": [
    "df['return1m'] = df['close'].shift(-1) - df['close']\n",
    "# 高ボラバーだけ抽出して平均リターンを出す\n",
    "avg_ret = df.loc[df['high_vol'] == 1, 'return1m'].mean()\n",
    "print(f\"高ボラ直後の平均リターン: {avg_ret:.4f}\")"
   ]
  },
  {
   "cell_type": "markdown",
   "metadata": {},
   "source": [
    "リターンがプラスなのは直近が上昇相場だから？ <br>\n",
    "→Should Do forward test too. (Abt a week)"
   ]
  },
  {
   "cell_type": "code",
   "execution_count": 6,
   "metadata": {},
   "outputs": [
    {
     "name": "stdout",
     "output_type": "stream",
     "text": [
      "k=1: 続く確率=48.37%, 平均リターン=1.7057\n"
     ]
    }
   ],
   "source": [
    "cr = df.loc[df['high_vol']==1, 'high_vol_next'].mean()\n",
    "ar = (df['close'].shift(-1) - df['close'])[df['high_vol']==1].mean()\n",
    "print(f\"k=1: 続く確率={cr:.2%}, 平均リターン={ar:.4f}\")"
   ]
  },
  {
   "cell_type": "markdown",
   "metadata": {},
   "source": [
    "手数料込みで考えると期待値はマイナス。<br>\n",
    "1btc取引に際し、手数料は<br>\n",
    "<br>\n",
    "Taker: 0.0036% (ex: $30 for 1btc = 93000)/ Maker: 0.0096% (ex: $8 for 1btc= 93000),\n",
    "プラスでslippageがmax 8%\n",
    "\n",
    "<br>\n",
    "\n",
    "Takerだとあまりに分が悪いかもしれない"
   ]
  },
  {
   "cell_type": "code",
   "execution_count": 7,
   "metadata": {},
   "outputs": [],
   "source": [
    "#方向の指標（目的変数？）\n",
    "df['label_up'] = (df['close'].shift(-1) > df['close']).astype(int)"
   ]
  },
  {
   "cell_type": "code",
   "execution_count": 8,
   "metadata": {},
   "outputs": [
    {
     "data": {
      "text/html": [
       "<div>\n",
       "<style scoped>\n",
       "    .dataframe tbody tr th:only-of-type {\n",
       "        vertical-align: middle;\n",
       "    }\n",
       "\n",
       "    .dataframe tbody tr th {\n",
       "        vertical-align: top;\n",
       "    }\n",
       "\n",
       "    .dataframe thead th {\n",
       "        text-align: right;\n",
       "    }\n",
       "</style>\n",
       "<table border=\"1\" class=\"dataframe\">\n",
       "  <thead>\n",
       "    <tr style=\"text-align: right;\">\n",
       "      <th></th>\n",
       "      <th>datetime</th>\n",
       "      <th>open</th>\n",
       "      <th>high</th>\n",
       "      <th>low</th>\n",
       "      <th>close</th>\n",
       "      <th>volume</th>\n",
       "      <th>prev_close</th>\n",
       "      <th>prev_close2</th>\n",
       "      <th>tr1</th>\n",
       "      <th>tr2</th>\n",
       "      <th>tr3</th>\n",
       "      <th>tr</th>\n",
       "      <th>atr50</th>\n",
       "      <th>high_vol</th>\n",
       "      <th>high_vol_next</th>\n",
       "      <th>return1m</th>\n",
       "      <th>label_up</th>\n",
       "    </tr>\n",
       "  </thead>\n",
       "  <tbody>\n",
       "    <tr>\n",
       "      <th>49</th>\n",
       "      <td>2025-04-23 17:36:00</td>\n",
       "      <td>93620.0</td>\n",
       "      <td>93638.0</td>\n",
       "      <td>93609.0</td>\n",
       "      <td>93637.0</td>\n",
       "      <td>3.92104</td>\n",
       "      <td>93625.0</td>\n",
       "      <td>93629.0</td>\n",
       "      <td>29.0</td>\n",
       "      <td>13.0</td>\n",
       "      <td>16.0</td>\n",
       "      <td>29.0</td>\n",
       "      <td>63.08</td>\n",
       "      <td>0</td>\n",
       "      <td>1.0</td>\n",
       "      <td>-67.0</td>\n",
       "      <td>0</td>\n",
       "    </tr>\n",
       "    <tr>\n",
       "      <th>50</th>\n",
       "      <td>2025-04-23 17:37:00</td>\n",
       "      <td>93638.0</td>\n",
       "      <td>93638.0</td>\n",
       "      <td>93543.0</td>\n",
       "      <td>93570.0</td>\n",
       "      <td>28.24922</td>\n",
       "      <td>93637.0</td>\n",
       "      <td>93625.0</td>\n",
       "      <td>95.0</td>\n",
       "      <td>1.0</td>\n",
       "      <td>94.0</td>\n",
       "      <td>95.0</td>\n",
       "      <td>64.32</td>\n",
       "      <td>1</td>\n",
       "      <td>0.0</td>\n",
       "      <td>56.0</td>\n",
       "      <td>1</td>\n",
       "    </tr>\n",
       "    <tr>\n",
       "      <th>51</th>\n",
       "      <td>2025-04-23 17:38:00</td>\n",
       "      <td>93571.0</td>\n",
       "      <td>93626.0</td>\n",
       "      <td>93571.0</td>\n",
       "      <td>93626.0</td>\n",
       "      <td>12.64914</td>\n",
       "      <td>93570.0</td>\n",
       "      <td>93637.0</td>\n",
       "      <td>55.0</td>\n",
       "      <td>56.0</td>\n",
       "      <td>1.0</td>\n",
       "      <td>56.0</td>\n",
       "      <td>63.74</td>\n",
       "      <td>0</td>\n",
       "      <td>1.0</td>\n",
       "      <td>28.0</td>\n",
       "      <td>1</td>\n",
       "    </tr>\n",
       "    <tr>\n",
       "      <th>52</th>\n",
       "      <td>2025-04-23 17:39:00</td>\n",
       "      <td>93625.0</td>\n",
       "      <td>93659.0</td>\n",
       "      <td>93590.0</td>\n",
       "      <td>93654.0</td>\n",
       "      <td>12.36915</td>\n",
       "      <td>93626.0</td>\n",
       "      <td>93570.0</td>\n",
       "      <td>69.0</td>\n",
       "      <td>33.0</td>\n",
       "      <td>36.0</td>\n",
       "      <td>69.0</td>\n",
       "      <td>63.02</td>\n",
       "      <td>1</td>\n",
       "      <td>0.0</td>\n",
       "      <td>-51.0</td>\n",
       "      <td>0</td>\n",
       "    </tr>\n",
       "    <tr>\n",
       "      <th>53</th>\n",
       "      <td>2025-04-23 17:40:00</td>\n",
       "      <td>93655.0</td>\n",
       "      <td>93660.0</td>\n",
       "      <td>93602.0</td>\n",
       "      <td>93603.0</td>\n",
       "      <td>12.42808</td>\n",
       "      <td>93654.0</td>\n",
       "      <td>93626.0</td>\n",
       "      <td>58.0</td>\n",
       "      <td>6.0</td>\n",
       "      <td>52.0</td>\n",
       "      <td>58.0</td>\n",
       "      <td>61.66</td>\n",
       "      <td>0</td>\n",
       "      <td>0.0</td>\n",
       "      <td>15.0</td>\n",
       "      <td>1</td>\n",
       "    </tr>\n",
       "  </tbody>\n",
       "</table>\n",
       "</div>"
      ],
      "text/plain": [
       "               datetime     open     high      low    close    volume  \\\n",
       "49  2025-04-23 17:36:00  93620.0  93638.0  93609.0  93637.0   3.92104   \n",
       "50  2025-04-23 17:37:00  93638.0  93638.0  93543.0  93570.0  28.24922   \n",
       "51  2025-04-23 17:38:00  93571.0  93626.0  93571.0  93626.0  12.64914   \n",
       "52  2025-04-23 17:39:00  93625.0  93659.0  93590.0  93654.0  12.36915   \n",
       "53  2025-04-23 17:40:00  93655.0  93660.0  93602.0  93603.0  12.42808   \n",
       "\n",
       "    prev_close  prev_close2   tr1   tr2   tr3    tr  atr50  high_vol  \\\n",
       "49     93625.0      93629.0  29.0  13.0  16.0  29.0  63.08         0   \n",
       "50     93637.0      93625.0  95.0   1.0  94.0  95.0  64.32         1   \n",
       "51     93570.0      93637.0  55.0  56.0   1.0  56.0  63.74         0   \n",
       "52     93626.0      93570.0  69.0  33.0  36.0  69.0  63.02         1   \n",
       "53     93654.0      93626.0  58.0   6.0  52.0  58.0  61.66         0   \n",
       "\n",
       "    high_vol_next  return1m  label_up  \n",
       "49            1.0     -67.0         0  \n",
       "50            0.0      56.0         1  \n",
       "51            1.0      28.0         1  \n",
       "52            0.0     -51.0         0  \n",
       "53            0.0      15.0         1  "
      ]
     },
     "execution_count": 8,
     "metadata": {},
     "output_type": "execute_result"
    }
   ],
   "source": [
    "df.head()\n",
    "#prev_closeは1分前のclose price\n",
    "#high_vol: tr > atr50 == 1\n",
    "#high_vol_next: if its high vol 1min later then 1\n",
    "#return1m: the return of 1 min later\n",
    "#label_up: if its up 1 min later then 1"
   ]
  },
  {
   "cell_type": "markdown",
   "metadata": {},
   "source": [
    "### **閾値だけでエッジになるのか？**\n",
    "ならない。"
   ]
  },
  {
   "cell_type": "markdown",
   "metadata": {},
   "source": [
    "## **方向予測の導入**"
   ]
  },
  {
   "cell_type": "markdown",
   "metadata": {},
   "source": [
    "一旦ハイボラ局面だけ抽出して、特徴量、ラベルを用意する <br>\n",
    "1. high_vol = 1の行だけ取り出す。\n",
    "2. 特徴量、ラベル定義\n",
    "3. 欠損値を除いて数を確認 <br>\n",
    "<br>\n",
    "ここでやってるのは、「ハイボラを検知した直後の1分の方向を予測しよう」という試み。"
   ]
  },
  {
   "cell_type": "code",
   "execution_count": 9,
   "metadata": {},
   "outputs": [],
   "source": [
    "# ラグ特徴量としてリターンを計算\n",
    "df['return_lag1'] = df['close']        - df['prev_close']   # 1分前からのリターン\n",
    "df['return_lag2'] = df['prev_close']   - df['prev_close2']  # 2分前からのリターン\n",
    "df['tr/atr50'] = df['tr'] / df['atr50']"
   ]
  },
  {
   "cell_type": "code",
   "execution_count": 10,
   "metadata": {},
   "outputs": [
    {
     "name": "stdout",
     "output_type": "stream",
     "text": [
      "サンプル数: 1992\n",
      "上昇ラベルの割合: 49.40%\n"
     ]
    }
   ],
   "source": [
    "#1. ハイボラのとこだけ取り出す\n",
    "df_hv = df[df['high_vol'] == 1].copy()\n",
    "#2. 特徴量の定義\n",
    "features = ['tr', 'atr50', 'tr/atr50', 'return_lag1', 'return_lag2']\n",
    "\n",
    "# 3) X と y を作成\n",
    "X_hv = df_hv[features].dropna()\n",
    "y_hv = df_hv.loc[X_hv.index, 'label_up']\n",
    "\n",
    "# 4) 行数とポジティブ率を確認\n",
    "print(\"サンプル数:\", X_hv.shape[0])\n",
    "print(\"上昇ラベルの割合:\", f\"{y_hv.mean():.2%}\")"
   ]
  },
  {
   "cell_type": "markdown",
   "metadata": {},
   "source": [
    "#### **2. まずはロジスティックで方向予測となるか**"
   ]
  },
  {
   "cell_type": "code",
   "execution_count": 11,
   "metadata": {},
   "outputs": [],
   "source": [
    "from sklearn.linear_model import LogisticRegression\n",
    "from sklearn.model_selection import TimeSeriesSplit\n",
    "from sklearn.metrics import roc_auc_score"
   ]
  },
  {
   "cell_type": "markdown",
   "metadata": {},
   "source": [
    "#### **1. まずは簡単な特徴量だけで。** <br>\n",
    "tr, atr50, tr/atr50, return_lag1, return_lag2のみ使用。"
   ]
  },
  {
   "cell_type": "code",
   "execution_count": 12,
   "metadata": {},
   "outputs": [
    {
     "name": "stdout",
     "output_type": "stream",
     "text": [
      "高ボラ局面のみ CV AUC: 0.5285407369483602\n"
     ]
    }
   ],
   "source": [
    "# 1) 時系列分割の設定（例：3分割）\n",
    "tscv = TimeSeriesSplit(n_splits=3)\n",
    "\n",
    "aucs = []\n",
    "for train_idx, test_idx in tscv.split(X_hv):\n",
    "    X_train, X_test = X_hv.iloc[train_idx], X_hv.iloc[test_idx]\n",
    "    y_train, y_test = y_hv.iloc[train_idx], y_hv.iloc[test_idx]\n",
    "\n",
    "    # 2) モデル学習\n",
    "    model = LogisticRegression(max_iter=1000).fit(X_train, y_train)\n",
    "\n",
    "    # 3) 確率で予測し、AUCを算出\n",
    "    p = model.predict_proba(X_test)[:, 1]\n",
    "    aucs.append(roc_auc_score(y_test, p))\n",
    "\n",
    "print(\"高ボラ局面のみ CV AUC:\", np.mean(aucs))"
   ]
  },
  {
   "cell_type": "code",
   "execution_count": 13,
   "metadata": {},
   "outputs": [
    {
     "data": {
      "text/html": [
       "<div>\n",
       "<style scoped>\n",
       "    .dataframe tbody tr th:only-of-type {\n",
       "        vertical-align: middle;\n",
       "    }\n",
       "\n",
       "    .dataframe tbody tr th {\n",
       "        vertical-align: top;\n",
       "    }\n",
       "\n",
       "    .dataframe thead th {\n",
       "        text-align: right;\n",
       "    }\n",
       "</style>\n",
       "<table border=\"1\" class=\"dataframe\">\n",
       "  <thead>\n",
       "    <tr style=\"text-align: right;\">\n",
       "      <th></th>\n",
       "      <th>datetime</th>\n",
       "      <th>open</th>\n",
       "      <th>high</th>\n",
       "      <th>low</th>\n",
       "      <th>close</th>\n",
       "      <th>volume</th>\n",
       "      <th>prev_close</th>\n",
       "      <th>prev_close2</th>\n",
       "      <th>tr1</th>\n",
       "      <th>tr2</th>\n",
       "      <th>tr3</th>\n",
       "      <th>tr</th>\n",
       "      <th>atr50</th>\n",
       "      <th>high_vol</th>\n",
       "      <th>high_vol_next</th>\n",
       "      <th>return1m</th>\n",
       "      <th>label_up</th>\n",
       "      <th>return_lag1</th>\n",
       "      <th>return_lag2</th>\n",
       "      <th>tr/atr50</th>\n",
       "    </tr>\n",
       "  </thead>\n",
       "  <tbody>\n",
       "    <tr>\n",
       "      <th>50</th>\n",
       "      <td>2025-04-23 17:37:00</td>\n",
       "      <td>93638.0</td>\n",
       "      <td>93638.0</td>\n",
       "      <td>93543.0</td>\n",
       "      <td>93570.0</td>\n",
       "      <td>28.24922</td>\n",
       "      <td>93637.0</td>\n",
       "      <td>93625.0</td>\n",
       "      <td>95.0</td>\n",
       "      <td>1.0</td>\n",
       "      <td>94.0</td>\n",
       "      <td>95.0</td>\n",
       "      <td>64.32</td>\n",
       "      <td>1</td>\n",
       "      <td>0.0</td>\n",
       "      <td>56.0</td>\n",
       "      <td>1</td>\n",
       "      <td>-67.0</td>\n",
       "      <td>12.0</td>\n",
       "      <td>1.476990</td>\n",
       "    </tr>\n",
       "    <tr>\n",
       "      <th>52</th>\n",
       "      <td>2025-04-23 17:39:00</td>\n",
       "      <td>93625.0</td>\n",
       "      <td>93659.0</td>\n",
       "      <td>93590.0</td>\n",
       "      <td>93654.0</td>\n",
       "      <td>12.36915</td>\n",
       "      <td>93626.0</td>\n",
       "      <td>93570.0</td>\n",
       "      <td>69.0</td>\n",
       "      <td>33.0</td>\n",
       "      <td>36.0</td>\n",
       "      <td>69.0</td>\n",
       "      <td>63.02</td>\n",
       "      <td>1</td>\n",
       "      <td>0.0</td>\n",
       "      <td>-51.0</td>\n",
       "      <td>0</td>\n",
       "      <td>28.0</td>\n",
       "      <td>56.0</td>\n",
       "      <td>1.094891</td>\n",
       "    </tr>\n",
       "    <tr>\n",
       "      <th>56</th>\n",
       "      <td>2025-04-23 17:43:00</td>\n",
       "      <td>93617.0</td>\n",
       "      <td>93690.0</td>\n",
       "      <td>93616.0</td>\n",
       "      <td>93690.0</td>\n",
       "      <td>11.81212</td>\n",
       "      <td>93616.0</td>\n",
       "      <td>93618.0</td>\n",
       "      <td>74.0</td>\n",
       "      <td>74.0</td>\n",
       "      <td>0.0</td>\n",
       "      <td>74.0</td>\n",
       "      <td>60.76</td>\n",
       "      <td>1</td>\n",
       "      <td>1.0</td>\n",
       "      <td>59.0</td>\n",
       "      <td>1</td>\n",
       "      <td>74.0</td>\n",
       "      <td>-2.0</td>\n",
       "      <td>1.217907</td>\n",
       "    </tr>\n",
       "    <tr>\n",
       "      <th>57</th>\n",
       "      <td>2025-04-23 17:44:00</td>\n",
       "      <td>93681.0</td>\n",
       "      <td>93782.0</td>\n",
       "      <td>93681.0</td>\n",
       "      <td>93749.0</td>\n",
       "      <td>6.22602</td>\n",
       "      <td>93690.0</td>\n",
       "      <td>93616.0</td>\n",
       "      <td>101.0</td>\n",
       "      <td>92.0</td>\n",
       "      <td>9.0</td>\n",
       "      <td>101.0</td>\n",
       "      <td>61.92</td>\n",
       "      <td>1</td>\n",
       "      <td>0.0</td>\n",
       "      <td>-52.0</td>\n",
       "      <td>0</td>\n",
       "      <td>59.0</td>\n",
       "      <td>74.0</td>\n",
       "      <td>1.631137</td>\n",
       "    </tr>\n",
       "    <tr>\n",
       "      <th>60</th>\n",
       "      <td>2025-04-23 17:47:00</td>\n",
       "      <td>93714.0</td>\n",
       "      <td>93737.0</td>\n",
       "      <td>93675.0</td>\n",
       "      <td>93702.0</td>\n",
       "      <td>10.87482</td>\n",
       "      <td>93714.0</td>\n",
       "      <td>93697.0</td>\n",
       "      <td>62.0</td>\n",
       "      <td>23.0</td>\n",
       "      <td>39.0</td>\n",
       "      <td>62.0</td>\n",
       "      <td>61.00</td>\n",
       "      <td>1</td>\n",
       "      <td>0.0</td>\n",
       "      <td>-4.0</td>\n",
       "      <td>0</td>\n",
       "      <td>-12.0</td>\n",
       "      <td>17.0</td>\n",
       "      <td>1.016393</td>\n",
       "    </tr>\n",
       "  </tbody>\n",
       "</table>\n",
       "</div>"
      ],
      "text/plain": [
       "               datetime     open     high      low    close    volume  \\\n",
       "50  2025-04-23 17:37:00  93638.0  93638.0  93543.0  93570.0  28.24922   \n",
       "52  2025-04-23 17:39:00  93625.0  93659.0  93590.0  93654.0  12.36915   \n",
       "56  2025-04-23 17:43:00  93617.0  93690.0  93616.0  93690.0  11.81212   \n",
       "57  2025-04-23 17:44:00  93681.0  93782.0  93681.0  93749.0   6.22602   \n",
       "60  2025-04-23 17:47:00  93714.0  93737.0  93675.0  93702.0  10.87482   \n",
       "\n",
       "    prev_close  prev_close2    tr1   tr2   tr3     tr  atr50  high_vol  \\\n",
       "50     93637.0      93625.0   95.0   1.0  94.0   95.0  64.32         1   \n",
       "52     93626.0      93570.0   69.0  33.0  36.0   69.0  63.02         1   \n",
       "56     93616.0      93618.0   74.0  74.0   0.0   74.0  60.76         1   \n",
       "57     93690.0      93616.0  101.0  92.0   9.0  101.0  61.92         1   \n",
       "60     93714.0      93697.0   62.0  23.0  39.0   62.0  61.00         1   \n",
       "\n",
       "    high_vol_next  return1m  label_up  return_lag1  return_lag2  tr/atr50  \n",
       "50            0.0      56.0         1        -67.0         12.0  1.476990  \n",
       "52            0.0     -51.0         0         28.0         56.0  1.094891  \n",
       "56            1.0      59.0         1         74.0         -2.0  1.217907  \n",
       "57            0.0     -52.0         0         59.0         74.0  1.631137  \n",
       "60            0.0      -4.0         0        -12.0         17.0  1.016393  "
      ]
     },
     "execution_count": 13,
     "metadata": {},
     "output_type": "execute_result"
    }
   ],
   "source": [
    "df_hv.head()"
   ]
  },
  {
   "cell_type": "markdown",
   "metadata": {},
   "source": [
    "#### **3. 髭やバーの長さで変わるかな？** <br>\n",
    "髭、バーの長さ、髭 vsバーの比率を入れる。"
   ]
  },
  {
   "cell_type": "code",
   "execution_count": 14,
   "metadata": {},
   "outputs": [],
   "source": [
    "#特徴量（髭、バー、髭vsバー）の作成。\n",
    "df_hv['body'] = (df_hv['close'] - df_hv['open']).abs() #バー\n",
    "df_hv['whisker'] = df_hv['high'] - df_hv['low'] #髭\n",
    "df_hv['body_whisker_ratio'] = df_hv['body'] / df_hv['whisker'] #バー/髭"
   ]
  },
  {
   "cell_type": "code",
   "execution_count": 15,
   "metadata": {},
   "outputs": [],
   "source": [
    "#特徴量リストに追加\n",
    "features = ['tr', 'atr50', 'tr/atr50', 'return_lag1', 'return_lag2', 'body_whisker_ratio']\n",
    "#X, yのdfを変える\n",
    "X_hv = df_hv[features].dropna()\n",
    "y_hv = df_hv.loc[X_hv.index, 'label_up']"
   ]
  },
  {
   "cell_type": "code",
   "execution_count": 16,
   "metadata": {},
   "outputs": [
    {
     "name": "stdout",
     "output_type": "stream",
     "text": [
      "body_ratio追加後 CV AUC: 0.5281414725789043\n"
     ]
    }
   ],
   "source": [
    "tscv = TimeSeriesSplit(n_splits=3)\n",
    "aucs = []\n",
    "# ここからlogistic regression\n",
    "for train_idx, test_idx in tscv.split(X_hv):\n",
    "    model = LogisticRegression(max_iter=1000).fit(\n",
    "        X_hv.iloc[train_idx], y_hv.iloc[train_idx]\n",
    "    )\n",
    "    p = model.predict_proba(X_hv.iloc[test_idx])[:,1]\n",
    "    aucs.append(roc_auc_score(y_hv.iloc[test_idx], p))\n",
    "\n",
    "print(\"body_ratio追加後 CV AUC:\", np.mean(aucs))"
   ]
  },
  {
   "cell_type": "markdown",
   "metadata": {},
   "source": [
    "あまり変わらない"
   ]
  },
  {
   "cell_type": "markdown",
   "metadata": {},
   "source": [
    "適当にXGBoost/LightGBMで予測できないか？"
   ]
  },
  {
   "cell_type": "markdown",
   "metadata": {},
   "source": [
    "### **3. 適当にLightGBM/XGBoostで方向予測できへんかやってみる** <br>\n",
    "目的：適当に特徴量をぶち込みまくって上がり下がりの予測ができないか判定したい"
   ]
  },
  {
   "cell_type": "code",
   "execution_count": 17,
   "metadata": {},
   "outputs": [
    {
     "data": {
      "text/html": [
       "<div>\n",
       "<style scoped>\n",
       "    .dataframe tbody tr th:only-of-type {\n",
       "        vertical-align: middle;\n",
       "    }\n",
       "\n",
       "    .dataframe tbody tr th {\n",
       "        vertical-align: top;\n",
       "    }\n",
       "\n",
       "    .dataframe thead th {\n",
       "        text-align: right;\n",
       "    }\n",
       "</style>\n",
       "<table border=\"1\" class=\"dataframe\">\n",
       "  <thead>\n",
       "    <tr style=\"text-align: right;\">\n",
       "      <th></th>\n",
       "      <th>datetime</th>\n",
       "      <th>open</th>\n",
       "      <th>high</th>\n",
       "      <th>low</th>\n",
       "      <th>close</th>\n",
       "      <th>volume</th>\n",
       "      <th>prev_close</th>\n",
       "      <th>prev_close2</th>\n",
       "      <th>tr1</th>\n",
       "      <th>tr2</th>\n",
       "      <th>tr3</th>\n",
       "      <th>tr</th>\n",
       "      <th>atr50</th>\n",
       "      <th>high_vol</th>\n",
       "      <th>high_vol_next</th>\n",
       "      <th>return1m</th>\n",
       "      <th>label_up</th>\n",
       "      <th>return_lag1</th>\n",
       "      <th>return_lag2</th>\n",
       "      <th>tr/atr50</th>\n",
       "    </tr>\n",
       "  </thead>\n",
       "  <tbody>\n",
       "    <tr>\n",
       "      <th>49</th>\n",
       "      <td>2025-04-23 17:36:00</td>\n",
       "      <td>93620.0</td>\n",
       "      <td>93638.0</td>\n",
       "      <td>93609.0</td>\n",
       "      <td>93637.0</td>\n",
       "      <td>3.92104</td>\n",
       "      <td>93625.0</td>\n",
       "      <td>93629.0</td>\n",
       "      <td>29.0</td>\n",
       "      <td>13.0</td>\n",
       "      <td>16.0</td>\n",
       "      <td>29.0</td>\n",
       "      <td>63.08</td>\n",
       "      <td>0</td>\n",
       "      <td>1.0</td>\n",
       "      <td>-67.0</td>\n",
       "      <td>0</td>\n",
       "      <td>12.0</td>\n",
       "      <td>-4.0</td>\n",
       "      <td>0.459734</td>\n",
       "    </tr>\n",
       "    <tr>\n",
       "      <th>50</th>\n",
       "      <td>2025-04-23 17:37:00</td>\n",
       "      <td>93638.0</td>\n",
       "      <td>93638.0</td>\n",
       "      <td>93543.0</td>\n",
       "      <td>93570.0</td>\n",
       "      <td>28.24922</td>\n",
       "      <td>93637.0</td>\n",
       "      <td>93625.0</td>\n",
       "      <td>95.0</td>\n",
       "      <td>1.0</td>\n",
       "      <td>94.0</td>\n",
       "      <td>95.0</td>\n",
       "      <td>64.32</td>\n",
       "      <td>1</td>\n",
       "      <td>0.0</td>\n",
       "      <td>56.0</td>\n",
       "      <td>1</td>\n",
       "      <td>-67.0</td>\n",
       "      <td>12.0</td>\n",
       "      <td>1.476990</td>\n",
       "    </tr>\n",
       "    <tr>\n",
       "      <th>51</th>\n",
       "      <td>2025-04-23 17:38:00</td>\n",
       "      <td>93571.0</td>\n",
       "      <td>93626.0</td>\n",
       "      <td>93571.0</td>\n",
       "      <td>93626.0</td>\n",
       "      <td>12.64914</td>\n",
       "      <td>93570.0</td>\n",
       "      <td>93637.0</td>\n",
       "      <td>55.0</td>\n",
       "      <td>56.0</td>\n",
       "      <td>1.0</td>\n",
       "      <td>56.0</td>\n",
       "      <td>63.74</td>\n",
       "      <td>0</td>\n",
       "      <td>1.0</td>\n",
       "      <td>28.0</td>\n",
       "      <td>1</td>\n",
       "      <td>56.0</td>\n",
       "      <td>-67.0</td>\n",
       "      <td>0.878569</td>\n",
       "    </tr>\n",
       "    <tr>\n",
       "      <th>52</th>\n",
       "      <td>2025-04-23 17:39:00</td>\n",
       "      <td>93625.0</td>\n",
       "      <td>93659.0</td>\n",
       "      <td>93590.0</td>\n",
       "      <td>93654.0</td>\n",
       "      <td>12.36915</td>\n",
       "      <td>93626.0</td>\n",
       "      <td>93570.0</td>\n",
       "      <td>69.0</td>\n",
       "      <td>33.0</td>\n",
       "      <td>36.0</td>\n",
       "      <td>69.0</td>\n",
       "      <td>63.02</td>\n",
       "      <td>1</td>\n",
       "      <td>0.0</td>\n",
       "      <td>-51.0</td>\n",
       "      <td>0</td>\n",
       "      <td>28.0</td>\n",
       "      <td>56.0</td>\n",
       "      <td>1.094891</td>\n",
       "    </tr>\n",
       "    <tr>\n",
       "      <th>53</th>\n",
       "      <td>2025-04-23 17:40:00</td>\n",
       "      <td>93655.0</td>\n",
       "      <td>93660.0</td>\n",
       "      <td>93602.0</td>\n",
       "      <td>93603.0</td>\n",
       "      <td>12.42808</td>\n",
       "      <td>93654.0</td>\n",
       "      <td>93626.0</td>\n",
       "      <td>58.0</td>\n",
       "      <td>6.0</td>\n",
       "      <td>52.0</td>\n",
       "      <td>58.0</td>\n",
       "      <td>61.66</td>\n",
       "      <td>0</td>\n",
       "      <td>0.0</td>\n",
       "      <td>15.0</td>\n",
       "      <td>1</td>\n",
       "      <td>-51.0</td>\n",
       "      <td>28.0</td>\n",
       "      <td>0.940642</td>\n",
       "    </tr>\n",
       "  </tbody>\n",
       "</table>\n",
       "</div>"
      ],
      "text/plain": [
       "               datetime     open     high      low    close    volume  \\\n",
       "49  2025-04-23 17:36:00  93620.0  93638.0  93609.0  93637.0   3.92104   \n",
       "50  2025-04-23 17:37:00  93638.0  93638.0  93543.0  93570.0  28.24922   \n",
       "51  2025-04-23 17:38:00  93571.0  93626.0  93571.0  93626.0  12.64914   \n",
       "52  2025-04-23 17:39:00  93625.0  93659.0  93590.0  93654.0  12.36915   \n",
       "53  2025-04-23 17:40:00  93655.0  93660.0  93602.0  93603.0  12.42808   \n",
       "\n",
       "    prev_close  prev_close2   tr1   tr2   tr3    tr  atr50  high_vol  \\\n",
       "49     93625.0      93629.0  29.0  13.0  16.0  29.0  63.08         0   \n",
       "50     93637.0      93625.0  95.0   1.0  94.0  95.0  64.32         1   \n",
       "51     93570.0      93637.0  55.0  56.0   1.0  56.0  63.74         0   \n",
       "52     93626.0      93570.0  69.0  33.0  36.0  69.0  63.02         1   \n",
       "53     93654.0      93626.0  58.0   6.0  52.0  58.0  61.66         0   \n",
       "\n",
       "    high_vol_next  return1m  label_up  return_lag1  return_lag2  tr/atr50  \n",
       "49            1.0     -67.0         0         12.0         -4.0  0.459734  \n",
       "50            0.0      56.0         1        -67.0         12.0  1.476990  \n",
       "51            1.0      28.0         1         56.0        -67.0  0.878569  \n",
       "52            0.0     -51.0         0         28.0         56.0  1.094891  \n",
       "53            0.0      15.0         1        -51.0         28.0  0.940642  "
      ]
     },
     "execution_count": 17,
     "metadata": {},
     "output_type": "execute_result"
    }
   ],
   "source": [
    "df.head() #データの確認。\n",
    "#return1mは将来のリターンでこれを参照すると100%当たるので外す"
   ]
  },
  {
   "cell_type": "markdown",
   "metadata": {},
   "source": [
    "目的変数はlabel_up（0/1）で、他は適当に特徴量入れてみる"
   ]
  },
  {
   "cell_type": "code",
   "execution_count": 18,
   "metadata": {},
   "outputs": [],
   "source": [
    "#1. 特徴量を切り出す\n",
    "features = [\n",
    "    'open', 'high', 'low', 'close', 'volume',\n",
    "    'prev_close', 'prev_close2',\n",
    "    'tr', 'atr50', 'tr/atr50',\n",
    "    'high_vol',\n",
    "    'return_lag1', 'return_lag2'\n",
    "]"
   ]
  },
  {
   "cell_type": "code",
   "execution_count": 19,
   "metadata": {},
   "outputs": [
    {
     "name": "stdout",
     "output_type": "stream",
     "text": [
      "X の形状: (4997, 13)\n",
      "y の分布:\n",
      " label_up\n",
      "0    0.535321\n",
      "1    0.464679\n",
      "Name: proportion, dtype: float64\n"
     ]
    }
   ],
   "source": [
    "#2. X, yを作成して、中身の確認\n",
    "X = df[features].dropna()\n",
    "y = df.loc[X.index, 'label_up']\n",
    "\n",
    "print(\"X の形状:\", X.shape)\n",
    "print(\"y の分布:\\n\", y.value_counts(normalize=True))"
   ]
  },
  {
   "cell_type": "code",
   "execution_count": 20,
   "metadata": {},
   "outputs": [
    {
     "name": "stdout",
     "output_type": "stream",
     "text": [
      "X_train: (3997, 13) y_train 0/1 比率: 0.4691018263697773\n",
      "X_test:  (1000, 13) y_test  0/1 比率: 0.447\n"
     ]
    }
   ],
   "source": [
    "# データ長を取得\n",
    "n = len(X)\n",
    "\n",
    "# 80% の位置\n",
    "split = int(n * 0.8)\n",
    "\n",
    "#学習／テストセット作成\n",
    "X_train, X_test = X.iloc[:split], X.iloc[split:]\n",
    "y_train, y_test = y.iloc[:split], y.iloc[split:]\n",
    "\n",
    "# 形状を確認\n",
    "print(\"X_train:\", X_train.shape, \"y_train 0/1 比率:\", y_train.mean())\n",
    "print(\"X_test: \", X_test.shape,  \"y_test  0/1 比率:\", y_test.mean())\n"
   ]
  },
  {
   "cell_type": "markdown",
   "metadata": {},
   "source": [
    "Module importing"
   ]
  },
  {
   "cell_type": "code",
   "execution_count": 21,
   "metadata": {},
   "outputs": [],
   "source": [
    "from lightgbm import LGBMClassifier\n",
    "from sklearn.metrics import roc_auc_score"
   ]
  },
  {
   "cell_type": "code",
   "execution_count": 22,
   "metadata": {},
   "outputs": [],
   "source": [
    "model = LGBMClassifier(\n",
    "    n_estimators=200,       # 木の本数\n",
    "    learning_rate=0.05,     # 学習率\n",
    "    num_leaves=31,          # 葉っぱの数（複雑度）\n",
    "    random_state=42\n",
    ") "
   ]
  },
  {
   "cell_type": "markdown",
   "metadata": {},
   "source": [
    "このハイパーパラメータは本来CVで決定しなければいけないもの？"
   ]
  },
  {
   "cell_type": "code",
   "execution_count": 23,
   "metadata": {},
   "outputs": [
    {
     "name": "stdout",
     "output_type": "stream",
     "text": [
      "[LightGBM] [Info] Number of positive: 1875, number of negative: 2122\n",
      "[LightGBM] [Info] Auto-choosing col-wise multi-threading, the overhead of testing was 0.000619 seconds.\n",
      "You can set `force_col_wise=true` to remove the overhead.\n",
      "[LightGBM] [Info] Total Bins 2908\n",
      "[LightGBM] [Info] Number of data points in the train set: 3997, number of used features: 13\n",
      "[LightGBM] [Info] [binary:BoostFromScore]: pavg=0.469102 -> initscore=-0.123750\n",
      "[LightGBM] [Info] Start training from score -0.123750\n"
     ]
    },
    {
     "name": "stdout",
     "output_type": "stream",
     "text": [
      "LightGBM Test AUC: 0.5047837502174433\n"
     ]
    }
   ],
   "source": [
    "# 1) モデルを学習\n",
    "model.fit(X_train, y_train)\n",
    "\n",
    "# 2) テストデータで確率を予測\n",
    "y_pred_proba = model.predict_proba(X_test)[:, 1]\n",
    "\n",
    "# 3) AUCを計算\n",
    "test_auc = roc_auc_score(y_test, y_pred_proba)\n",
    "print(\"LightGBM Test AUC:\", test_auc)"
   ]
  },
  {
   "cell_type": "markdown",
   "metadata": {},
   "source": [
    "#### **Next step: feature importance**"
   ]
  },
  {
   "cell_type": "code",
   "execution_count": 24,
   "metadata": {},
   "outputs": [
    {
     "name": "stdout",
     "output_type": "stream",
     "text": [
      "Feature importances:\n",
      " return_lag2    931\n",
      "volume         793\n",
      "atr50          790\n",
      "return_lag1    742\n",
      "tr/atr50       654\n",
      "tr             460\n",
      "prev_close2    425\n",
      "open           304\n",
      "close          286\n",
      "low            246\n",
      "high           233\n",
      "prev_close     136\n",
      "high_vol         0\n",
      "dtype: int32\n"
     ]
    }
   ],
   "source": [
    "# features は先ほど定義した特徴量リスト\n",
    "importances = pd.Series(\n",
    "    model.feature_importances_, \n",
    "    index=features\n",
    ")\n",
    "#ソートして表示\n",
    "importances = importances.sort_values(ascending=False)\n",
    "print(\"Feature importances:\\n\", importances)"
   ]
  },
  {
   "cell_type": "code",
   "execution_count": 25,
   "metadata": {},
   "outputs": [
    {
     "data": {
      "image/png": "[encoded data removed]",
      "text/plain": [
       "<Figure size 800x400 with 1 Axes>"
      ]
     },
     "metadata": {},
     "output_type": "display_data"
    }
   ],
   "source": [
    "importances.plot.bar(figsize=(8,4))\n",
    "plt.title(\"LightGBM Feature Importances\")\n",
    "plt.ylabel(\"Importance\")\n",
    "plt.show()"
   ]
  },
  {
   "cell_type": "markdown",
   "metadata": {},
   "source": [
    "## **Result** <br>\n",
    "Even LightGBM could not predict high/low that well. <br>\n",
    "However, from Feature importance section, lagged return was apparently important <br>\n",
    "so plugging bunch of past bars/wicks/... could improve the result. <br>\n",
    "\n",
    "### **Things to improve**\n",
    "1. **Cross Validation** <br>\n",
    "    this time, i used 80% of earlier data to train the rest 20%. <br>\n",
    "    however, in the real case, we use about 5000 data to predict next 1 so it should be CV'd that way. \n",
    "    <br>\n",
    "<br>    \n",
    "2. **Features** <br>\n",
    "    in this case I only used few features about price data. <br>\n",
    "    However, some features concerning momentums definitely should be there. #why? <br>\n",
    "    Also as I stated earlier plugging bunch of past bars could improve the result <br>\n",
    "    because including them better reflects local momentum, and vols <br>"
   ]
  }
 ],
 "metadata": {
  "kernelspec": {
   "display_name": "main_env",
   "language": "python",
   "name": "python3"
  },
  "language_info": {
   "codemirror_mode": {
    "name": "ipython",
    "version": 3
   },
   "file_extension": ".py",
   "mimetype": "text/x-python",
   "name": "python",
   "nbconvert_exporter": "python",
   "pygments_lexer": "ipython3",
   "version": "3.12.3"
  },
  "orig_nbformat": 4
 },
 "nbformat": 4,
 "nbformat_minor": 2
}
