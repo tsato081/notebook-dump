{
 "cells": [
  {
   "cell_type": "markdown",
   "metadata": {},
   "source": [
    "# **Predicting High Volatility from ATR**"
   ]
  },
  {
   "cell_type": "markdown",
   "metadata": {},
   "source": [
    "仮説：ボラティリティクラスタリングがあるなら、ATRとかのバーの幅をとるやつを計算して、その幅を超えたら、次の時間幅でも同様に超えるんとちゃうんか？=ボラがATRで予測できる？"
   ]
  },
  {
   "cell_type": "code",
   "execution_count": 2,
   "metadata": {},
   "outputs": [],
   "source": [
    "import ccxt\n",
    "import pandas as pd\n",
    "hyperliquid = ccxt.hyperliquid()"
   ]
  },
  {
   "cell_type": "markdown",
   "metadata": {},
   "source": [
    "### **実験方法** <br>\n",
    "1. ボラティリティ（幅）をまずは各データに対して計算。\n",
    "2. ATRの計算\n",
    "3. ATRの幅 < その時間の幅 なら、次の時間の幅とATRを比較。（結果はT/Fの二値に分類されるはず）\n",
    "4. 超えてるところの割合を調べる。\n",
    "<br>\n",
    "\n",
    "### **使用データ**\n",
    "Hyperliquid, ccxtから得られるOHLCV."
   ]
  },
  {
   "cell_type": "markdown",
   "metadata": {},
   "source": [
    "### **OHLCVのダウンロード**"
   ]
  },
  {
   "cell_type": "code",
   "execution_count": 40,
   "metadata": {},
   "outputs": [
    {
     "data": {
      "text/html": [
       "<div>\n",
       "<style scoped>\n",
       "    .dataframe tbody tr th:only-of-type {\n",
       "        vertical-align: middle;\n",
       "    }\n",
       "\n",
       "    .dataframe tbody tr th {\n",
       "        vertical-align: top;\n",
       "    }\n",
       "\n",
       "    .dataframe thead th {\n",
       "        text-align: right;\n",
       "    }\n",
       "</style>\n",
       "<table border=\"1\" class=\"dataframe\">\n",
       "  <thead>\n",
       "    <tr style=\"text-align: right;\">\n",
       "      <th></th>\n",
       "      <th>timestamp</th>\n",
       "      <th>open</th>\n",
       "      <th>high</th>\n",
       "      <th>low</th>\n",
       "      <th>close</th>\n",
       "      <th>volume</th>\n",
       "    </tr>\n",
       "  </thead>\n",
       "  <tbody>\n",
       "    <tr>\n",
       "      <th>0</th>\n",
       "      <td>1745394600000</td>\n",
       "      <td>93757.0</td>\n",
       "      <td>93759.0</td>\n",
       "      <td>93746.0</td>\n",
       "      <td>93747.0</td>\n",
       "      <td>0.89816</td>\n",
       "    </tr>\n",
       "    <tr>\n",
       "      <th>1</th>\n",
       "      <td>1745394660000</td>\n",
       "      <td>93746.0</td>\n",
       "      <td>93766.0</td>\n",
       "      <td>93746.0</td>\n",
       "      <td>93747.0</td>\n",
       "      <td>1.37882</td>\n",
       "    </tr>\n",
       "    <tr>\n",
       "      <th>2</th>\n",
       "      <td>1745394720000</td>\n",
       "      <td>93746.0</td>\n",
       "      <td>93821.0</td>\n",
       "      <td>93746.0</td>\n",
       "      <td>93818.0</td>\n",
       "      <td>2.24451</td>\n",
       "    </tr>\n",
       "    <tr>\n",
       "      <th>3</th>\n",
       "      <td>1745394780000</td>\n",
       "      <td>93817.0</td>\n",
       "      <td>93844.0</td>\n",
       "      <td>93817.0</td>\n",
       "      <td>93837.0</td>\n",
       "      <td>4.63537</td>\n",
       "    </tr>\n",
       "    <tr>\n",
       "      <th>4</th>\n",
       "      <td>1745394840000</td>\n",
       "      <td>93836.0</td>\n",
       "      <td>93890.0</td>\n",
       "      <td>93836.0</td>\n",
       "      <td>93875.0</td>\n",
       "      <td>23.66838</td>\n",
       "    </tr>\n",
       "  </tbody>\n",
       "</table>\n",
       "</div>"
      ],
      "text/plain": [
       "       timestamp     open     high      low    close    volume\n",
       "0  1745394600000  93757.0  93759.0  93746.0  93747.0   0.89816\n",
       "1  1745394660000  93746.0  93766.0  93746.0  93747.0   1.37882\n",
       "2  1745394720000  93746.0  93821.0  93746.0  93818.0   2.24451\n",
       "3  1745394780000  93817.0  93844.0  93817.0  93837.0   4.63537\n",
       "4  1745394840000  93836.0  93890.0  93836.0  93875.0  23.66838"
      ]
     },
     "execution_count": 40,
     "metadata": {},
     "output_type": "execute_result"
    }
   ],
   "source": [
    "symbol_perp = 'BTC/USDC:USDC'\n",
    "timeframe    = '1m'\n",
    "ohlcv = hyperliquid.fetch_ohlcv(symbol_perp, timeframe, limit = 5000 )\n",
    "df = pd.DataFrame(ohlcv, columns = ['timestamp','open','high','low','close','volume'])\n",
    "df.head()"
   ]
  },
  {
   "cell_type": "markdown",
   "metadata": {},
   "source": [
    "#### **各時間帯のレンジを計算**"
   ]
  },
  {
   "cell_type": "code",
   "execution_count": 41,
   "metadata": {},
   "outputs": [],
   "source": [
    "df['range_bar'] = df['open'] - df['close'] #実態の足のレンジ計算\n",
    "df['range_whisker'] = df['high'] - df['low'] #髭の計算。あってる？これ"
   ]
  },
  {
   "cell_type": "code",
   "execution_count": 42,
   "metadata": {},
   "outputs": [],
   "source": [
    "df['abs_range_bar'] = abs(df['range_bar'])\n",
    "df['atr_like'] = df['abs_range_bar'].rolling(window=50).mean() #過去50分のバーの幅の平均\n",
    "df.dropna(inplace=True)"
   ]
  },
  {
   "cell_type": "markdown",
   "metadata": {},
   "source": [
    "ここで一旦、<br>\n",
    "1. バーの幅、その絶対値\n",
    "2. 髭の幅\n",
    "3. 過去50分のバーの幅（絶対値）の平均が取れた。"
   ]
  },
  {
   "cell_type": "markdown",
   "metadata": {},
   "source": [
    "超えてるかどうかを判定する"
   ]
  },
  {
   "cell_type": "code",
   "execution_count": 43,
   "metadata": {},
   "outputs": [],
   "source": [
    "df['is_high_vol'] = (df['abs_range_bar'] > df['atr_like']).astype(int) #その時間のバーの幅がATR_likeを超えてたら1, 超えてないと0"
   ]
  },
  {
   "cell_type": "code",
   "execution_count": 44,
   "metadata": {},
   "outputs": [],
   "source": [
    "df['is_high_vol_next'] = df['is_high_vol'].shift(-1) #1こ未来のを今のところに下ろしてる（時間軸を1つ前に持ってきてる）\n",
    "df.dropna(inplace=True) "
   ]
  },
  {
   "cell_type": "markdown",
   "metadata": {},
   "source": [
    "超えてたかどうか、の部分"
   ]
  },
  {
   "cell_type": "code",
   "execution_count": 46,
   "metadata": {},
   "outputs": [
    {
     "data": {
      "text/html": [
       "<div>\n",
       "<style scoped>\n",
       "    .dataframe tbody tr th:only-of-type {\n",
       "        vertical-align: middle;\n",
       "    }\n",
       "\n",
       "    .dataframe tbody tr th {\n",
       "        vertical-align: top;\n",
       "    }\n",
       "\n",
       "    .dataframe thead th {\n",
       "        text-align: right;\n",
       "    }\n",
       "</style>\n",
       "<table border=\"1\" class=\"dataframe\">\n",
       "  <thead>\n",
       "    <tr style=\"text-align: right;\">\n",
       "      <th></th>\n",
       "      <th>timestamp</th>\n",
       "      <th>open</th>\n",
       "      <th>high</th>\n",
       "      <th>low</th>\n",
       "      <th>close</th>\n",
       "      <th>volume</th>\n",
       "      <th>range_bar</th>\n",
       "      <th>range_whisker</th>\n",
       "      <th>abs_range_bar</th>\n",
       "      <th>atr_like</th>\n",
       "      <th>is_high_vol</th>\n",
       "      <th>is_high_vol_next</th>\n",
       "    </tr>\n",
       "  </thead>\n",
       "  <tbody>\n",
       "    <tr>\n",
       "      <th>49</th>\n",
       "      <td>1745397540000</td>\n",
       "      <td>94205.0</td>\n",
       "      <td>94205.0</td>\n",
       "      <td>94199.0</td>\n",
       "      <td>94202.0</td>\n",
       "      <td>7.72317</td>\n",
       "      <td>3.0</td>\n",
       "      <td>6.0</td>\n",
       "      <td>3.0</td>\n",
       "      <td>52.22</td>\n",
       "      <td>0</td>\n",
       "      <td>0.0</td>\n",
       "    </tr>\n",
       "    <tr>\n",
       "      <th>50</th>\n",
       "      <td>1745397600000</td>\n",
       "      <td>94201.0</td>\n",
       "      <td>94282.0</td>\n",
       "      <td>94201.0</td>\n",
       "      <td>94211.0</td>\n",
       "      <td>37.44831</td>\n",
       "      <td>-10.0</td>\n",
       "      <td>81.0</td>\n",
       "      <td>10.0</td>\n",
       "      <td>52.22</td>\n",
       "      <td>0</td>\n",
       "      <td>0.0</td>\n",
       "    </tr>\n",
       "    <tr>\n",
       "      <th>51</th>\n",
       "      <td>1745397660000</td>\n",
       "      <td>94211.0</td>\n",
       "      <td>94235.0</td>\n",
       "      <td>94208.0</td>\n",
       "      <td>94227.0</td>\n",
       "      <td>5.35928</td>\n",
       "      <td>-16.0</td>\n",
       "      <td>27.0</td>\n",
       "      <td>16.0</td>\n",
       "      <td>52.52</td>\n",
       "      <td>0</td>\n",
       "      <td>0.0</td>\n",
       "    </tr>\n",
       "    <tr>\n",
       "      <th>52</th>\n",
       "      <td>1745397720000</td>\n",
       "      <td>94227.0</td>\n",
       "      <td>94245.0</td>\n",
       "      <td>94173.0</td>\n",
       "      <td>94198.0</td>\n",
       "      <td>16.44716</td>\n",
       "      <td>29.0</td>\n",
       "      <td>72.0</td>\n",
       "      <td>29.0</td>\n",
       "      <td>51.66</td>\n",
       "      <td>0</td>\n",
       "      <td>0.0</td>\n",
       "    </tr>\n",
       "    <tr>\n",
       "      <th>53</th>\n",
       "      <td>1745397780000</td>\n",
       "      <td>94181.0</td>\n",
       "      <td>94198.0</td>\n",
       "      <td>94167.0</td>\n",
       "      <td>94184.0</td>\n",
       "      <td>35.33901</td>\n",
       "      <td>-3.0</td>\n",
       "      <td>31.0</td>\n",
       "      <td>3.0</td>\n",
       "      <td>51.32</td>\n",
       "      <td>0</td>\n",
       "      <td>1.0</td>\n",
       "    </tr>\n",
       "  </tbody>\n",
       "</table>\n",
       "</div>"
      ],
      "text/plain": [
       "        timestamp     open     high      low    close    volume  range_bar  \\\n",
       "49  1745397540000  94205.0  94205.0  94199.0  94202.0   7.72317        3.0   \n",
       "50  1745397600000  94201.0  94282.0  94201.0  94211.0  37.44831      -10.0   \n",
       "51  1745397660000  94211.0  94235.0  94208.0  94227.0   5.35928      -16.0   \n",
       "52  1745397720000  94227.0  94245.0  94173.0  94198.0  16.44716       29.0   \n",
       "53  1745397780000  94181.0  94198.0  94167.0  94184.0  35.33901       -3.0   \n",
       "\n",
       "    range_whisker  abs_range_bar  atr_like  is_high_vol  is_high_vol_next  \n",
       "49            6.0            3.0     52.22            0               0.0  \n",
       "50           81.0           10.0     52.22            0               0.0  \n",
       "51           27.0           16.0     52.52            0               0.0  \n",
       "52           72.0           29.0     51.66            0               0.0  \n",
       "53           31.0            3.0     51.32            0               1.0  "
      ]
     },
     "execution_count": 46,
     "metadata": {},
     "output_type": "execute_result"
    }
   ],
   "source": [
    "df.head()"
   ]
  },
  {
   "cell_type": "code",
   "execution_count": 47,
   "metadata": {},
   "outputs": [],
   "source": [
    "next_high_vol_rate = df.loc[df['is_high_vol'] == 1, 'is_high_vol_next'].mean()#is_high_volが1のところを探して、is_high_vol_nextの平均を探してる。"
   ]
  },
  {
   "cell_type": "code",
   "execution_count": 48,
   "metadata": {},
   "outputs": [
    {
     "data": {
      "text/plain": [
       "np.float64(0.42345110087045573)"
      ]
     },
     "execution_count": 48,
     "metadata": {},
     "output_type": "execute_result"
    }
   ],
   "source": [
    "next_high_vol_rate "
   ]
  },
  {
   "cell_type": "markdown",
   "metadata": {},
   "source": [
    "## **結論**\n",
    "一旦、過去のバーの50個の平均を超えると次も結構な確率（42.5%)で超えてることがわかった。<br>\n",
    "### **他にできること？**\n",
    "1. この42.5%という数字が大きいのか？小さいのか？\n",
    "2. rollingは大きいほうがいい？小さい方がいい？\n",
    "3. フラグ立てる閾値を厳しくするとどうか？ex)ATR_like * 1.2\n",
    "4. Range_Whisker を使った場合どうか？\n",
    "5. 2回連続で超えた場合は？"
   ]
  },
  {
   "cell_type": "markdown",
   "metadata": {},
   "source": [
    "## **1. 42.5%という数字が良いのか？悪いのか？**\n",
    "まずは、条件なしの高ボラ率を出してみる。<br>\n"
   ]
  },
  {
   "cell_type": "code",
   "execution_count": 49,
   "metadata": {},
   "outputs": [
    {
     "name": "stdout",
     "output_type": "stream",
     "text": [
      "0.39454545454545453\n"
     ]
    }
   ],
   "source": [
    "base_rate = df['is_high_vol'].mean()\n",
    "print(base_rate)"
   ]
  },
  {
   "cell_type": "markdown",
   "metadata": {},
   "source": [
    "ベースの高ボラ率は39.6%と、かなり高い。<br>\n",
    "つまり、<br>\n",
    "1. ボラティリティクラスタリングはあるか？: うっすらありそう。\n",
    "2. 超強い現象なのか？: そこまで。ここでは一旦3%のほどの違いしか出なかった。\n",
    "3. 戦略にはまだ使えなさそう。"
   ]
  },
  {
   "cell_type": "markdown",
   "metadata": {},
   "source": [
    "## **2. rollingの窓を変えてみるとどうなるのか？**"
   ]
  },
  {
   "cell_type": "markdown",
   "metadata": {},
   "source": [
    "1つ目の実験では、rolling = 50とした。これを20, 100などと長めにとった場合どうなるのかを確認する。"
   ]
  },
  {
   "cell_type": "code",
   "execution_count": 50,
   "metadata": {},
   "outputs": [
    {
     "data": {
      "text/html": [
       "<div>\n",
       "<style scoped>\n",
       "    .dataframe tbody tr th:only-of-type {\n",
       "        vertical-align: middle;\n",
       "    }\n",
       "\n",
       "    .dataframe tbody tr th {\n",
       "        vertical-align: top;\n",
       "    }\n",
       "\n",
       "    .dataframe thead th {\n",
       "        text-align: right;\n",
       "    }\n",
       "</style>\n",
       "<table border=\"1\" class=\"dataframe\">\n",
       "  <thead>\n",
       "    <tr style=\"text-align: right;\">\n",
       "      <th></th>\n",
       "      <th>timestamp</th>\n",
       "      <th>open</th>\n",
       "      <th>high</th>\n",
       "      <th>low</th>\n",
       "      <th>close</th>\n",
       "      <th>volume</th>\n",
       "      <th>range_bar</th>\n",
       "      <th>range_whisker</th>\n",
       "      <th>abs_range_bar</th>\n",
       "      <th>atr_like</th>\n",
       "      <th>is_high_vol</th>\n",
       "      <th>is_high_vol_next</th>\n",
       "    </tr>\n",
       "  </thead>\n",
       "  <tbody>\n",
       "    <tr>\n",
       "      <th>49</th>\n",
       "      <td>1745397540000</td>\n",
       "      <td>94205.0</td>\n",
       "      <td>94205.0</td>\n",
       "      <td>94199.0</td>\n",
       "      <td>94202.0</td>\n",
       "      <td>7.72317</td>\n",
       "      <td>3.0</td>\n",
       "      <td>6.0</td>\n",
       "      <td>3.0</td>\n",
       "      <td>52.22</td>\n",
       "      <td>0</td>\n",
       "      <td>0.0</td>\n",
       "    </tr>\n",
       "    <tr>\n",
       "      <th>50</th>\n",
       "      <td>1745397600000</td>\n",
       "      <td>94201.0</td>\n",
       "      <td>94282.0</td>\n",
       "      <td>94201.0</td>\n",
       "      <td>94211.0</td>\n",
       "      <td>37.44831</td>\n",
       "      <td>-10.0</td>\n",
       "      <td>81.0</td>\n",
       "      <td>10.0</td>\n",
       "      <td>52.22</td>\n",
       "      <td>0</td>\n",
       "      <td>0.0</td>\n",
       "    </tr>\n",
       "    <tr>\n",
       "      <th>51</th>\n",
       "      <td>1745397660000</td>\n",
       "      <td>94211.0</td>\n",
       "      <td>94235.0</td>\n",
       "      <td>94208.0</td>\n",
       "      <td>94227.0</td>\n",
       "      <td>5.35928</td>\n",
       "      <td>-16.0</td>\n",
       "      <td>27.0</td>\n",
       "      <td>16.0</td>\n",
       "      <td>52.52</td>\n",
       "      <td>0</td>\n",
       "      <td>0.0</td>\n",
       "    </tr>\n",
       "    <tr>\n",
       "      <th>52</th>\n",
       "      <td>1745397720000</td>\n",
       "      <td>94227.0</td>\n",
       "      <td>94245.0</td>\n",
       "      <td>94173.0</td>\n",
       "      <td>94198.0</td>\n",
       "      <td>16.44716</td>\n",
       "      <td>29.0</td>\n",
       "      <td>72.0</td>\n",
       "      <td>29.0</td>\n",
       "      <td>51.66</td>\n",
       "      <td>0</td>\n",
       "      <td>0.0</td>\n",
       "    </tr>\n",
       "    <tr>\n",
       "      <th>53</th>\n",
       "      <td>1745397780000</td>\n",
       "      <td>94181.0</td>\n",
       "      <td>94198.0</td>\n",
       "      <td>94167.0</td>\n",
       "      <td>94184.0</td>\n",
       "      <td>35.33901</td>\n",
       "      <td>-3.0</td>\n",
       "      <td>31.0</td>\n",
       "      <td>3.0</td>\n",
       "      <td>51.32</td>\n",
       "      <td>0</td>\n",
       "      <td>1.0</td>\n",
       "    </tr>\n",
       "  </tbody>\n",
       "</table>\n",
       "</div>"
      ],
      "text/plain": [
       "        timestamp     open     high      low    close    volume  range_bar  \\\n",
       "49  1745397540000  94205.0  94205.0  94199.0  94202.0   7.72317        3.0   \n",
       "50  1745397600000  94201.0  94282.0  94201.0  94211.0  37.44831      -10.0   \n",
       "51  1745397660000  94211.0  94235.0  94208.0  94227.0   5.35928      -16.0   \n",
       "52  1745397720000  94227.0  94245.0  94173.0  94198.0  16.44716       29.0   \n",
       "53  1745397780000  94181.0  94198.0  94167.0  94184.0  35.33901       -3.0   \n",
       "\n",
       "    range_whisker  abs_range_bar  atr_like  is_high_vol  is_high_vol_next  \n",
       "49            6.0            3.0     52.22            0               0.0  \n",
       "50           81.0           10.0     52.22            0               0.0  \n",
       "51           27.0           16.0     52.52            0               0.0  \n",
       "52           72.0           29.0     51.66            0               0.0  \n",
       "53           31.0            3.0     51.32            0               1.0  "
      ]
     },
     "execution_count": 50,
     "metadata": {},
     "output_type": "execute_result"
    }
   ],
   "source": [
    "df.head()"
   ]
  },
  {
   "cell_type": "code",
   "execution_count": 51,
   "metadata": {},
   "outputs": [
    {
     "name": "stdout",
     "output_type": "stream",
     "text": [
      "--- Rolling 20本 ---\n",
      "ベース確率: 0.3971 （39.71%）\n",
      "超えた後の次も高ボラ確率: 0.4356 （43.56%）\n",
      "\n",
      "--- Rolling 100本 ---\n",
      "ベース確率: 0.3885 （38.85%）\n",
      "超えた後の次も高ボラ確率: 0.4278 （42.78%）\n"
     ]
    }
   ],
   "source": [
    "df['atr_like_20'] = df['abs_range_bar'].rolling(window=20).mean()\n",
    "df['atr_like_100'] = df['abs_range_bar'].rolling(window=100).mean()\n",
    "df.dropna(inplace=True)\n",
    "df['is_high_vol_20'] = (df['abs_range_bar'] > df['atr_like_20']).astype(int)\n",
    "df['is_high_vol_100'] = (df['abs_range_bar'] > df['atr_like_100']).astype(int)\n",
    "\n",
    "df['is_high_vol_next_20'] = df['is_high_vol_20'].shift(-1)\n",
    "df['is_high_vol_next_100'] = df['is_high_vol_100'].shift(-1)\n",
    "df.dropna(inplace=True)\n",
    "\n",
    "next_high_vol_rate_20 = df.loc[df['is_high_vol_20'] == 1, 'is_high_vol_next_20'].mean()\n",
    "next_high_vol_rate_100 = df.loc[df['is_high_vol_100'] == 1, 'is_high_vol_next_100'].mean()\n",
    "\n",
    "base_rate_20 = df['is_high_vol_20'].mean()\n",
    "base_rate_100 = df['is_high_vol_100'].mean()\n",
    "\n",
    "print(f\"--- Rolling 20本 ---\")\n",
    "print(f\"ベース確率: {base_rate_20:.4f} （{base_rate_20 * 100:.2f}%）\")\n",
    "print(f\"超えた後の次も高ボラ確率: {next_high_vol_rate_20:.4f} （{next_high_vol_rate_20 * 100:.2f}%）\\n\")\n",
    "\n",
    "print(f\"--- Rolling 100本 ---\")\n",
    "print(f\"ベース確率: {base_rate_100:.4f} （{base_rate_100 * 100:.2f}%）\")\n",
    "print(f\"超えた後の次も高ボラ確率: {next_high_vol_rate_100:.4f} （{next_high_vol_rate_100 * 100:.2f}%）\")\n"
   ]
  },
  {
   "cell_type": "markdown",
   "metadata": {},
   "source": [
    "### Rollingの幅を変えたところでそれほど大きな差はなかった。<br>\n",
    "あと気になるのは、ベースレートと比較してどうすんの？みたいな。投資の指標として使うんだから、ベースの確率と比較するというよりかはランダムに予測して合ってるかどうか、みたいな比較がフェアってもんじゃないのか？"
   ]
  },
  {
   "cell_type": "markdown",
   "metadata": {},
   "source": [
    "# **2. 髭込みのボラティリティではどうなのか？**"
   ]
  },
  {
   "cell_type": "code",
   "execution_count": 55,
   "metadata": {},
   "outputs": [
    {
     "name": "stdout",
     "output_type": "stream",
     "text": [
      "--- 髭込みボラ版 ---\n",
      "ベース確率: 0.3977 (39.77%)\n",
      "超えた後の次も高ボラ確率: 0.4866 (48.66%)\n"
     ]
    }
   ],
   "source": [
    "df['atr_like_whisker'] = df['range_whisker'].rolling(window=50).mean()\n",
    "df['is_high_vol_whisker'] = (df['range_whisker'] > df['atr_like_whisker']).astype(int) #高ボラフラグ作成\n",
    "df['is_high_vol_next_whisker'] = df['is_high_vol_whisker'].shift(-1)\n",
    "df.dropna(inplace=True)\n",
    "next_high_vol_rate_whisker = df.loc[df['is_high_vol_whisker'] == 1, 'is_high_vol_next_whisker'].mean()\n",
    "base_rate_whisker = df['is_high_vol_whisker'].mean()\n",
    "print(\"--- 髭込みボラ版 ---\")\n",
    "print(f\"ベース確率: {base_rate_whisker:.4f} ({base_rate_whisker * 100:.2f}%)\")\n",
    "print(f\"超えた後の次も高ボラ確率: {next_high_vol_rate_whisker:.4f} ({next_high_vol_rate_whisker * 100:.2f}%)\")"
   ]
  },
  {
   "cell_type": "markdown",
   "metadata": {},
   "source": [
    "お？"
   ]
  },
  {
   "cell_type": "markdown",
   "metadata": {},
   "source": [
    "### **閾値をちょい高くしたバージョン**"
   ]
  },
  {
   "cell_type": "code",
   "execution_count": 56,
   "metadata": {},
   "outputs": [
    {
     "name": "stdout",
     "output_type": "stream",
     "text": [
      "--- 髭込みボラ版（しきい値1.2倍） ---\n",
      "ベース確率: 0.2935 (29.35%)\n",
      "超えた後の次も高ボラ確率: 0.3956 (39.56%)\n"
     ]
    }
   ],
   "source": [
    "threshold = 1.2  # ← ここを1.2倍にする\n",
    "df['is_high_vol_whisker_strict'] = (df['range_whisker'] > threshold * df['atr_like_whisker']).astype(int)\n",
    "df['is_high_vol_next_whisker_strict'] = df['is_high_vol_whisker_strict'].shift(-1)\n",
    "\n",
    "next_high_vol_rate_whisker_strict = df.loc[df['is_high_vol_whisker_strict'] == 1, 'is_high_vol_next_whisker_strict'].mean()\n",
    "base_rate_whisker_strict = df['is_high_vol_whisker_strict'].mean()\n",
    "\n",
    "print(\"--- 髭込みボラ版（しきい値1.2倍） ---\")\n",
    "print(f\"ベース確率: {base_rate_whisker_strict:.4f} ({base_rate_whisker_strict * 100:.2f}%)\")\n",
    "print(f\"超えた後の次も高ボラ確率: {next_high_vol_rate_whisker_strict:.4f} ({next_high_vol_rate_whisker_strict * 100:.2f}%)\")"
   ]
  },
  {
   "cell_type": "code",
   "execution_count": 59,
   "metadata": {},
   "outputs": [
    {
     "name": "stdout",
     "output_type": "stream",
     "text": [
      "--- 2本連続爆発版（しきい値1倍） ---\n",
      "2本連続爆発する確率: 0.1935 (19.35%)\n"
     ]
    }
   ],
   "source": [
    "# まず、次の足のフラグもすでにshiftしてあるので、さらに次のフラグを作る\n",
    "df['is_high_vol_next2_whisker'] = df['is_high_vol_whisker'].shift(-2)\n",
    "\n",
    "# 2本連続で爆発してるかをチェック\n",
    "two_consecutive_explosions = (df['is_high_vol_whisker'] == 1) & (df['is_high_vol_next_whisker'] == 1)\n",
    "\n",
    "# 2本連続爆発の割合を計算\n",
    "two_consecutive_explosion_rate = two_consecutive_explosions.mean()\n",
    "\n",
    "print(\"--- 2本連続爆発版（しきい値1倍） ---\")\n",
    "print(f\"2本連続爆発する確率: {two_consecutive_explosion_rate:.4f} ({two_consecutive_explosion_rate * 100:.2f}%)\")\n"
   ]
  },
  {
   "cell_type": "code",
   "execution_count": 61,
   "metadata": {},
   "outputs": [
    {
     "name": "stdout",
     "output_type": "stream",
     "text": [
      "--- 爆発直後の方向性 ---\n",
      "爆発直後のリターン平均: 1.895702\n"
     ]
    }
   ],
   "source": [
    "# もう1回貼っとく\n",
    "df['close_next'] = df['close'].shift(-1)\n",
    "df['return_after_explosion'] = df['close_next'] - df['close']\n",
    "\n",
    "df_explosion = df[df['is_high_vol_whisker'] == 1]\n",
    "\n",
    "mean_return_after_explosion = df_explosion['return_after_explosion'].mean()\n",
    "\n",
    "print(\"--- 爆発直後の方向性 ---\")\n",
    "print(f\"爆発直後のリターン平均: {mean_return_after_explosion:.6f}\")"
   ]
  },
  {
   "cell_type": "markdown",
   "metadata": {},
   "source": [
    "検証テーマ\t結果・考察 <br>\n",
    "abs(open-close)ベースでボラを見る\tクラスタリングは弱め（ベース39.6%、次ボラ42.5%）<br>\n",
    "high-low（髭込み）ベースでボラを見る\tクラスタリングやや強め（ベース39.4%、次ボラ48.7%）<br>\n",
    "しきい値を1.2倍にすると？\t爆発バーのベース確率下がるが、次ボラ連鎖率は保たれる（39.6%）<br>\n",
    "2本連続爆発するか？\t1.0倍基準なら19%、1.2倍基準なら11%程度（減少）<br>\n",
    "爆発直後の方向性は？\t爆発直後、平均+1.9ドルのリターンあり → 順張り期待値プラス<br>"
   ]
  },
  {
   "cell_type": "markdown",
   "metadata": {},
   "source": [
    "🔹 分かったこと\n",
    "髭込みボラを使ったほうが連鎖傾向が強く出る <br>\n",
    "爆発後に「順張り」でエントリーする発想はアリ <br>\n",
    "ただし2本連続で爆発するケースはそこまで多くない <br>\n",
    "爆発を検知したら、次の1分に張る、という超短期スキャル戦略には現実味あり <br>"
   ]
  },
  {
   "cell_type": "markdown",
   "metadata": {},
   "source": [
    "# **次は？**"
   ]
  },
  {
   "cell_type": "markdown",
   "metadata": {},
   "source": []
  }
 ],
 "metadata": {
  "kernelspec": {
   "display_name": "main_env",
   "language": "python",
   "name": "python3"
  },
  "language_info": {
   "codemirror_mode": {
    "name": "ipython",
    "version": 3
   },
   "file_extension": ".py",
   "mimetype": "text/x-python",
   "name": "python",
   "nbconvert_exporter": "python",
   "pygments_lexer": "ipython3",
   "version": "3.12.3"
  },
  "orig_nbformat": 4
 },
 "nbformat": 4,
 "nbformat_minor": 2
}
